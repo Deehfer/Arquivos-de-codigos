{
  "nbformat": 4,
  "nbformat_minor": 0,
  "metadata": {
    "colab": {
      "provenance": [],
      "collapsed_sections": [],
      "authorship_tag": "ABX9TyN7g2z9i+2JLtgtoncCMY9M",
      "include_colab_link": true
    },
    "kernelspec": {
      "name": "python3",
      "display_name": "Python 3"
    },
    "language_info": {
      "name": "python"
    }
  },
  "cells": [
    {
      "cell_type": "markdown",
      "metadata": {
        "id": "view-in-github",
        "colab_type": "text"
      },
      "source": [
        "<a href=\"https://colab.research.google.com/github/Deehfer/Arquivos-de-codigos/blob/main/Jogo_Nim.ipynb\" target=\"_parent\"><img src=\"https://colab.research.google.com/assets/colab-badge.svg\" alt=\"Open In Colab\"/></a>"
      ]
    },
    {
      "cell_type": "markdown",
      "source": [
        "#Jogo do Nim"
      ],
      "metadata": {
        "id": "6eJ5Uo_9G_wK"
      }
    },
    {
      "cell_type": "code",
      "execution_count": null,
      "metadata": {
        "colab": {
          "base_uri": "https://localhost:8080/"
        },
        "id": "tbjmP03yA0pO",
        "outputId": "032e6f2d-5640-473b-f7f2-fe3d7caf0840"
      },
      "outputs": [
        {
          "output_type": "stream",
          "name": "stdout",
          "text": [
            "Bem-vindo ao jogo do NIM! \n",
            "Escolha:\n",
            " \n",
            "1 - Para jogar uma partida isolada\n",
            "2 - Para jogar um campeonato\n"
          ]
        }
      ],
      "source": [
        "#Aluno: Débora Aparecida Fernandes Calsa\n",
        "#RA: G421HD7\n",
        "#Aluno: Bruno Daniotti Miranda\n",
        "#RA: N786434\n",
        "\n",
        "\n",
        "tipo_jogo = 0#\n",
        " \n",
        "def computador_escolhe(n, m):\n",
        "    if n <= m:\n",
        "        return n\n",
        "    else:\n",
        "        quantia = n % (m+1)\n",
        "        if quantia > 0:\n",
        "            return quantia\n",
        "        return m\n",
        " \n",
        "def usuario_escolhe(n, m):\n",
        "    jogada = 0\n",
        "    while jogada == 0:\n",
        "        jogada = int(input(\"Quantas peças você vai tirar? \"))\n",
        "        if jogada > n or jogada < 1 or jogada > m:\n",
        "            print(\"Jogada inválida! Tente novamente.\")\n",
        "            jogada = 0\n",
        "    return jogada\n",
        " \n",
        "def partida(): \n",
        "    print(\" \")\n",
        "    n = int(input(\"Quantas peças? \"))\n",
        "    m = int(input(\"Qual o limite de peças por jogada? \"))\n",
        "\n",
        "    is_computer_turn = True\n",
        "    if False:\n",
        "        print(\"O computador começa!\")\n",
        "    if n % (m+1) == 0: is_computer_turn = False\n",
        "    if True:\n",
        "        print(\"Você começa!\")\n",
        "\n",
        "    while n > 0: \n",
        "        if is_computer_turn:\n",
        "            jogada = computador_escolhe(n, m)\n",
        "            is_computer_turn = False\n",
        "            print(\"Computador tirou {} peça(s).\".format(jogada))\n",
        "        else:\n",
        "            jogada = usuario_escolhe(n, m)\n",
        "            is_computer_turn = True\n",
        "            print(\"Você tirou {} peça(s).\" .format(jogada))\n",
        "        n = n - jogada\n",
        "        print(\"Agora restam {} peça(s) no tabuleiro.\\n\" .format(n))\n",
        "    if is_computer_turn:\n",
        "        print(\"Você ganhou!\")\n",
        "        return 1\n",
        "    else:\n",
        "        print(\"Fim de jogo! O computador ganhou!\")\n",
        "        return 0\n",
        " \n",
        "def campeonato():\n",
        "    usuario = 0\n",
        "    computador = 0\n",
        "    for _ in range(3):\n",
        "        vencedor = partida()\n",
        "        if vencedor == 1:\n",
        "            usuario = usuario + 1\n",
        "        else:\n",
        "            computador = computador + 1\n",
        "    print(\"** Final do campeonato! ***\")\n",
        "    print(\"Placar: Você Ganhou {} x {}  Computador Ganhou\")\n",
        " \n",
        "while tipo_jogo == 0:\n",
        "    print(\"Bem-vindo ao jogo do NIM! \\nEscolha:\")\n",
        "    print(\" \")\n",
        "    print(\"1 - Para jogar uma partida isolada\")\n",
        "    print(\"2 - Para jogar um campeonato\")\n",
        "\n",
        "    tipo_jogo = int(input(\"Opção: \"))\n",
        "    print(\" \")\n",
        "\n",
        "    if tipo_jogo == 1:\n",
        "        print(\"Voce escolheu uma partida isolada!\")\n",
        "        partida()\n",
        "        break\n",
        "    if tipo_jogo == 2:\n",
        "        print(\"Voce escolheu um campeonato!\")\n",
        "        campeonato()\n",
        "        break\n",
        "    else:\n",
        "        print(\"Opção inválida!\")\n",
        "        tipo_jogo = 0"
      ]
    }
  ]
}